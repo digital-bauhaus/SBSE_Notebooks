{
 "cells": [
  {
   "cell_type": "markdown",
   "metadata": {},
   "source": [
    "<h1><center>Excercise 00 - Python Tutorial</center></h1>"
   ]
  },
  {
   "cell_type": "markdown",
   "metadata": {},
   "source": [
    "<center>\n",
    "    Intelligent Software Systems - Summer Term 2018\n",
    "</center>\n",
    "\n",
    "<center>\n",
    "    by André Karge (andre.karge@uni-weimar.de)\n",
    "</center>"
   ]
  },
  {
   "cell_type": "markdown",
   "metadata": {},
   "source": [
    "![xkcd](./python.png)\n",
    "<center><sup>https://xkcd.com/353/</sup></center>"
   ]
  },
  {
   "cell_type": "markdown",
   "metadata": {},
   "source": [
    "## What is Python?\n",
    "\n",
    "*\"Python is an interpreted high-level programming language for general-purpose programming\"* - [wikipedia.org](https://en.wikipedia.org/wiki/Python_(programming_language)\n",
    "\n",
    "\n",
    "\n",
    "## Motivation & Basics\n",
    "\n",
    "- Uses interpreter which reads and processes instructions stored in a script\n",
    "- Python script is a text file containing Python instructions\n",
    "- Can be learned easily\n",
    "- Algorithms can be implemented fast and uncomplicated\n"
   ]
  },
  {
   "cell_type": "markdown",
   "metadata": {},
   "source": [
    "## Python Example"
   ]
  },
  {
   "cell_type": "code",
   "execution_count": 7,
   "metadata": {},
   "outputs": [
    {
     "name": "stdout",
     "output_type": "stream",
     "text": [
      "Hello world!\n",
      "your name is Chuck Norris\n"
     ]
    }
   ],
   "source": [
    "def helloworld(name): # function\n",
    "    print(\"Hello world!\") # call of print function\n",
    "    print(\"your name is \" + name)\n",
    "\n",
    "helloworld(\"Chuck Norris\") # call of helloworld function"
   ]
  },
  {
   "cell_type": "markdown",
   "metadata": {},
   "source": [
    "- Python uses indentation to mark blocks of code\n",
    "- Lines with same indentation depth belong together and form a scope"
   ]
  },
  {
   "cell_type": "markdown",
   "metadata": {},
   "source": [
    "## Print"
   ]
  },
  {
   "cell_type": "markdown",
   "metadata": {},
   "source": [
    "```print()``` prints text on the standard output\n",
    "\n",
    "In Python3 ```print(\"text\")``` is a function call\n",
    "\n",
    "In Python2 ```print \"text\"``` is just an instruction and is not available in Python3"
   ]
  },
  {
   "cell_type": "code",
   "execution_count": 89,
   "metadata": {},
   "outputs": [
    {
     "name": "stdout",
     "output_type": "stream",
     "text": [
      "Hello World\n"
     ]
    }
   ],
   "source": [
    "print(\"Hello World\") # a simple print"
   ]
  },
  {
   "cell_type": "code",
   "execution_count": 91,
   "metadata": {},
   "outputs": [
    {
     "name": "stdout",
     "output_type": "stream",
     "text": [
      "42 is the answer\n",
      "Chuck Norris has 12 cats, because of reasons\n"
     ]
    }
   ],
   "source": [
    "# format the character string\n",
    "print(\"{0} is the answer\".format(42)) # inserts the value of .format into the string\n",
    "print(\"{0} has {1} {2}, because of reasons\".format(\"Chuck Norris\", 12, \"cats\")) # multiple inserts"
   ]
  },
  {
   "cell_type": "markdown",
   "metadata": {},
   "source": [
    "## Variables"
   ]
  },
  {
   "cell_type": "markdown",
   "metadata": {},
   "source": [
    "Variable assignments by using the \"=\" operator"
   ]
  },
  {
   "cell_type": "code",
   "execution_count": null,
   "metadata": {},
   "outputs": [],
   "source": [
    "variable = 1 # character string"
   ]
  },
  {
   "cell_type": "code",
   "execution_count": 3,
   "metadata": {},
   "outputs": [],
   "source": [
    "# variable identifier cannot start with a number\n",
    "1variable = 3 # throws error"
   ]
  },
  {
   "cell_type": "markdown",
   "metadata": {},
   "source": [
    "## Numerical Types"
   ]
  },
  {
   "cell_type": "code",
   "execution_count": 8,
   "metadata": {},
   "outputs": [
    {
     "name": "stdout",
     "output_type": "stream",
     "text": [
      "<class 'int'>\n",
      "<class 'float'>\n"
     ]
    }
   ],
   "source": [
    "number1 = 1 # integer\n",
    "print(type(number1))\n",
    "number2 = 0.5 # floating point number\n",
    "print(type(number2))"
   ]
  },
  {
   "cell_type": "markdown",
   "metadata": {},
   "source": [
    "## Operations"
   ]
  },
  {
   "cell_type": "code",
   "execution_count": 15,
   "metadata": {},
   "outputs": [
    {
     "name": "stdout",
     "output_type": "stream",
     "text": [
      "3\n"
     ]
    }
   ],
   "source": [
    "# addition\n",
    "print(1 + 2)"
   ]
  },
  {
   "cell_type": "code",
   "execution_count": 16,
   "metadata": {},
   "outputs": [
    {
     "name": "stdout",
     "output_type": "stream",
     "text": [
      "1\n"
     ]
    }
   ],
   "source": [
    "# subtraction\n",
    "print(2 - 1)"
   ]
  },
  {
   "cell_type": "code",
   "execution_count": 17,
   "metadata": {},
   "outputs": [
    {
     "name": "stdout",
     "output_type": "stream",
     "text": [
      "6\n"
     ]
    }
   ],
   "source": [
    "# multiplication\n",
    "print(3 * 2)"
   ]
  },
  {
   "cell_type": "code",
   "execution_count": 26,
   "metadata": {},
   "outputs": [
    {
     "name": "stdout",
     "output_type": "stream",
     "text": [
      "1.5\n",
      "1\n"
     ]
    }
   ],
   "source": [
    "# division\n",
    "print(3 / 2)  # floating point division\n",
    "print(3 // 2) # integer division"
   ]
  },
  {
   "cell_type": "code",
   "execution_count": 28,
   "metadata": {},
   "outputs": [
    {
     "name": "stdout",
     "output_type": "stream",
     "text": [
      "8\n",
      "8\n"
     ]
    }
   ],
   "source": [
    "# power\n",
    "print(2 ** 3)\n",
    "print(pow(2,3))"
   ]
  },
  {
   "cell_type": "code",
   "execution_count": 30,
   "metadata": {},
   "outputs": [
    {
     "name": "stdout",
     "output_type": "stream",
     "text": [
      "8\n",
      "8\n"
     ]
    }
   ],
   "source": [
    "# modulo\n",
    "print(18 % 10)\n",
    "print(28 % 10)"
   ]
  },
  {
   "cell_type": "code",
   "execution_count": 22,
   "metadata": {},
   "outputs": [
    {
     "name": "stdout",
     "output_type": "stream",
     "text": [
      "1\n",
      "text\n"
     ]
    }
   ],
   "source": [
    "# assignment\n",
    "a = 1 # integer\n",
    "print(a)\n",
    "b = \"text\" # string\n",
    "print(b)\n",
    "c = 1.0 # float\n",
    "print()"
   ]
  },
  {
   "cell_type": "code",
   "execution_count": 19,
   "metadata": {},
   "outputs": [
    {
     "name": "stdout",
     "output_type": "stream",
     "text": [
      "2\n"
     ]
    }
   ],
   "source": [
    "# incrementation\n",
    "a = 1\n",
    "a += 1 # is the same as a = a + 1\n",
    "print(a)"
   ]
  },
  {
   "cell_type": "markdown",
   "metadata": {},
   "source": [
    "This works also with this operations:"
   ]
  },
  {
   "cell_type": "code",
   "execution_count": null,
   "metadata": {},
   "outputs": [],
   "source": [
    "a -= 2\n",
    "a *= 2\n",
    "a /= 2\n",
    "a //= 2"
   ]
  },
  {
   "cell_type": "markdown",
   "metadata": {},
   "source": [
    "## If Clauses"
   ]
  },
  {
   "cell_type": "code",
   "execution_count": 1,
   "metadata": {},
   "outputs": [
    {
     "name": "stdout",
     "output_type": "stream",
     "text": [
      "this is not correct\n"
     ]
    }
   ],
   "source": [
    "if 1 == 2:\n",
    "    print(\"this is correct\")\n",
    "else:\n",
    "    print(\"this is not correct\")"
   ]
  },
  {
   "cell_type": "code",
   "execution_count": 36,
   "metadata": {},
   "outputs": [
    {
     "name": "stdout",
     "output_type": "stream",
     "text": [
      "this is also correct\n"
     ]
    }
   ],
   "source": [
    "if 1 == 1 and 2 != 1:\n",
    "    print(\"this is also correct\")"
   ]
  },
  {
   "cell_type": "markdown",
   "metadata": {},
   "source": [
    "## Logical Operators"
   ]
  },
  {
   "cell_type": "markdown",
   "metadata": {},
   "source": [
    "Comparison"
   ]
  },
  {
   "cell_type": "markdown",
   "metadata": {},
   "source": [
    "| Operator | Meaning               |\n",
    "| :------: | --------------------- |\n",
    "| ==       | equal                 |\n",
    "| !=       | not equal             |\n",
    "| <        | strictly less than    |\n",
    "| <=       | less than or equal    |\n",
    "| >        | strictly greater than |\n",
    "| >=       | greater than or equal |"
   ]
  },
  {
   "cell_type": "markdown",
   "metadata": {},
   "source": [
    "Bitwise Operators"
   ]
  },
  {
   "cell_type": "markdown",
   "metadata": {},
   "source": [
    "| Operator | Meaning            |\n",
    "| :------: | ------------------ |\n",
    "| &        | binary AND         |\n",
    "| &#124;   | binary OR          |\n",
    "| ^        | binary XOR         |\n",
    "| <<       | binary left shift  |\n",
    "| >>       | binary right shift |\n",
    "| ~        | complement/not     |"
   ]
  },
  {
   "cell_type": "markdown",
   "metadata": {},
   "source": [
    "Boolean Operators"
   ]
  },
  {
   "cell_type": "markdown",
   "metadata": {},
   "source": [
    "| Operator | Meaning            |\n",
    "| :------: | ------------------ |\n",
    "| and      | logical AND        |\n",
    "| or       | logical OR         |\n",
    "| not      | logical NOT        |"
   ]
  },
  {
   "cell_type": "markdown",
   "metadata": {},
   "source": [
    "## Strings"
   ]
  },
  {
   "cell_type": "code",
   "execution_count": 37,
   "metadata": {},
   "outputs": [
    {
     "name": "stdout",
     "output_type": "stream",
     "text": [
      "This is a character string\n",
      "This is another character string\n"
     ]
    }
   ],
   "source": [
    "text = \"This is a character string\"\n",
    "print(text)\n",
    "print(\"This is another character string\")"
   ]
  },
  {
   "cell_type": "code",
   "execution_count": 38,
   "metadata": {},
   "outputs": [],
   "source": [
    "# Quotes indicate strings\n",
    "text = \"This is a string\"\n",
    "text = 'This is another string'"
   ]
  },
  {
   "cell_type": "code",
   "execution_count": 40,
   "metadata": {},
   "outputs": [
    {
     "name": "stdout",
     "output_type": "stream",
     "text": [
      "This is a 'new' string\n",
      "This is another \"new\" string\n",
      "This is \"another\" string\n",
      "This is 'another' string\n"
     ]
    }
   ],
   "source": [
    "# You can use quotes inside strings\n",
    "text = \"This is a 'new' string\"\n",
    "print(text)\n",
    "text = 'This is another \"new\" string'\n",
    "print(text)\n",
    "text = \"This is \\\"another\\\" string\" # escaping the quotes\n",
    "print(text)\n",
    "text = 'This is \\'another\\' string' # escaping the quotes\n",
    "print(text)"
   ]
  },
  {
   "cell_type": "markdown",
   "metadata": {},
   "source": [
    "## Lists"
   ]
  },
  {
   "cell_type": "markdown",
   "metadata": {},
   "source": [
    "Python uses an indexing starting at position 0"
   ]
  },
  {
   "cell_type": "code",
   "execution_count": 41,
   "metadata": {},
   "outputs": [
    {
     "name": "stdout",
     "output_type": "stream",
     "text": [
      "[1, 2, 3, 4, 5]\n"
     ]
    }
   ],
   "source": [
    "my_list = [1,2,3,4,5] # integer list\n",
    "print(my_list)"
   ]
  },
  {
   "cell_type": "code",
   "execution_count": 43,
   "metadata": {},
   "outputs": [
    {
     "name": "stdout",
     "output_type": "stream",
     "text": [
      "1\n",
      "2\n",
      "5\n",
      "[1, 2, 3]\n",
      "[2, 3]\n"
     ]
    }
   ],
   "source": [
    "my_list = [1,2,3,4,5]\n",
    "print(my_list[0])   # first list element\n",
    "print(my_list[1])   # second list element\n",
    "print(my_list[-1])  # last list element\n",
    "print(my_list[:3])  # first three list elements\n",
    "print(my_list[1:3]) # get list elements starting at the second element end stopping before the fourth"
   ]
  },
  {
   "cell_type": "code",
   "execution_count": 48,
   "metadata": {},
   "outputs": [
    {
     "name": "stdout",
     "output_type": "stream",
     "text": [
      "[1, 2, 3, 4, 5, 42]\n",
      "[16, 1, 2, 3, 4, 5, 42]\n",
      "[16, 1, 2, 32, 3, 4, 5, 42]\n"
     ]
    }
   ],
   "source": [
    "#append element to list\n",
    "my_list = [1,2,3,4,5]\n",
    "my_list.append(42) # append a 42 at the end\n",
    "print(my_list)\n",
    "\n",
    "# insert element in list a a position\n",
    "my_list.insert(0,16) # insert 16 at position 0\n",
    "print(my_list)\n",
    "\n",
    "my_list.insert(3, 32) # insert 32 at position 3\n",
    "print(my_list)"
   ]
  },
  {
   "cell_type": "code",
   "execution_count": 49,
   "metadata": {
    "scrolled": true
   },
   "outputs": [
    {
     "name": "stdout",
     "output_type": "stream",
     "text": [
      "[1, 2, 3, 4]\n",
      "[2, 3, 4]\n",
      "[2, 3]\n"
     ]
    }
   ],
   "source": [
    "# remove element from list\n",
    "my_list = [1,2,3,4,5]\n",
    "my_list.pop() # remove last element\n",
    "print(my_list)\n",
    "\n",
    "my_list.pop(0) # remove element at position 0\n",
    "print(my_list)\n",
    "\n",
    "my_list.pop(2) # remove element at position 2\n",
    "print(my_list)"
   ]
  },
  {
   "cell_type": "code",
   "execution_count": 54,
   "metadata": {},
   "outputs": [
    {
     "name": "stdout",
     "output_type": "stream",
     "text": [
      "5\n",
      "1\n",
      "5\n",
      "True\n",
      "True\n"
     ]
    }
   ],
   "source": [
    "# list functions\n",
    "my_list = [1,2,3,4,5]\n",
    "print(max(my_list)) # max gives the highest value of a list\n",
    "\n",
    "print(min(my_list)) # min gives the lowest value of a list\n",
    "\n",
    "print(len(my_list)) # len gives the length of a list\n",
    "\n",
    "# checks (elements in the list have to be of same type)\n",
    "\n",
    "print(5 in my_list) # check if an element is in a list\n",
    "\n",
    "print(42 not in my_list) # check if an element is not in a list"
   ]
  },
  {
   "cell_type": "code",
   "execution_count": 57,
   "metadata": {},
   "outputs": [
    {
     "name": "stdout",
     "output_type": "stream",
     "text": [
      "[1, 2, 3, 4, 5, 42]\n",
      "[1, 2, 3, 4, 5, 42]\n"
     ]
    }
   ],
   "source": [
    "# shallow copy vs deep copy\n",
    "a = [1,2,3,4,5]\n",
    "b = a # shallow copy\n",
    "b.append(42)\n",
    "print(a)\n",
    "print(b)"
   ]
  },
  {
   "cell_type": "code",
   "execution_count": 58,
   "metadata": {
    "scrolled": true
   },
   "outputs": [
    {
     "name": "stdout",
     "output_type": "stream",
     "text": [
      "[1, 2, 3, 4, 5]\n",
      "[1, 2, 3, 4, 5, 42]\n"
     ]
    }
   ],
   "source": [
    "from copy import deepcopy\n",
    "a = [1,2,3,4,5]\n",
    "b = deepcopy(a)\n",
    "b.append(42)\n",
    "print(a)\n",
    "print(b)"
   ]
  },
  {
   "cell_type": "code",
   "execution_count": 14,
   "metadata": {
    "scrolled": true
   },
   "outputs": [
    {
     "name": "stdout",
     "output_type": "stream",
     "text": [
      "[[1, 2, 3], [4, 5, 6], [7, 8, 9]]\n",
      "\n",
      "2\n",
      "\n",
      "[1, 2, 3]\n",
      "\n",
      "[1, 2, 3]\n",
      "[[1, 2, 3], [4, 5, 6]]\n",
      "[1, 2, 3]\n"
     ]
    }
   ],
   "source": [
    "# Multidimensional List\n",
    "matrix = [\n",
    "    [1,2,3],\n",
    "    [4,5,6],\n",
    "    [7,8,9]\n",
    "]\n",
    "print(matrix)\n",
    "print()\n",
    "print(matrix[0][1])  # get the the element at row 0 and column 1\n",
    "print()\n",
    "#print(matrix[0])  # get all elements at index 0 of all rows\n",
    "#print()\n",
    "print(matrix[0])     # get all elements of row 0\n",
    "print(matrix[:2])    # get all row until row 2\n",
    "#print(matrix[:2][0]) # get the first elements of all rows until row at index 2"
   ]
  },
  {
   "cell_type": "markdown",
   "metadata": {},
   "source": [
    "more list information can be found at [python documentation](https://docs.python.org/3/tutorial/datastructures.html#more-on-lists)"
   ]
  },
  {
   "cell_type": "markdown",
   "metadata": {},
   "source": [
    "## Tuple"
   ]
  },
  {
   "cell_type": "markdown",
   "metadata": {},
   "source": [
    "A tuple is an ordered immutable list of mixed types"
   ]
  },
  {
   "cell_type": "code",
   "execution_count": 69,
   "metadata": {},
   "outputs": [
    {
     "name": "stdout",
     "output_type": "stream",
     "text": [
      "('Chuck', 'Norris', 42)\n"
     ]
    }
   ],
   "source": [
    "# tuple is indicated with: ()\n",
    "t = (\"Chuck\", \"Norris\", 42)\n",
    "print(t)"
   ]
  },
  {
   "cell_type": "code",
   "execution_count": 72,
   "metadata": {},
   "outputs": [
    {
     "name": "stdout",
     "output_type": "stream",
     "text": [
      "Chuck\n"
     ]
    },
    {
     "ename": "TypeError",
     "evalue": "'tuple' object does not support item assignment",
     "output_type": "error",
     "traceback": [
      "\u001b[0;31m---------------------------------------------------------------------------\u001b[0m",
      "\u001b[0;31mTypeError\u001b[0m                                 Traceback (most recent call last)",
      "\u001b[0;32m<ipython-input-72-ad033e2fe5b0>\u001b[0m in \u001b[0;36m<module>\u001b[0;34m()\u001b[0m\n\u001b[1;32m      5\u001b[0m \u001b[0;34m\u001b[0m\u001b[0m\n\u001b[1;32m      6\u001b[0m \u001b[0;31m# no assignment possible\u001b[0m\u001b[0;34m\u001b[0m\u001b[0;34m\u001b[0m\u001b[0m\n\u001b[0;32m----> 7\u001b[0;31m \u001b[0mt\u001b[0m\u001b[0;34m[\u001b[0m\u001b[0;36m0\u001b[0m\u001b[0;34m]\u001b[0m \u001b[0;34m=\u001b[0m \u001b[0;34m\"Peter\"\u001b[0m\u001b[0;34m\u001b[0m\u001b[0m\n\u001b[0m",
      "\u001b[0;31mTypeError\u001b[0m: 'tuple' object does not support item assignment"
     ]
    }
   ],
   "source": [
    "t = (\"Chuck\", \"Norris\", 42)\n",
    "\n",
    "# get value of a tuple element\n",
    "print(t[0])\n",
    "\n",
    "# no assignment possible\n",
    "t[0] = \"Peter\""
   ]
  },
  {
   "cell_type": "code",
   "execution_count": 71,
   "metadata": {
    "scrolled": true
   },
   "outputs": [
    {
     "name": "stdout",
     "output_type": "stream",
     "text": [
      "Chuck\n",
      "Norris\n",
      "42\n"
     ]
    }
   ],
   "source": [
    "# tuple has to be unpacked first\n",
    "t = (\"Chuck\", \"Norris\", 42)\n",
    "firstname, lastname, answer = t\n",
    "print(firstname)\n",
    "print(lastname)\n",
    "print(answer)"
   ]
  },
  {
   "cell_type": "markdown",
   "metadata": {},
   "source": [
    "## Dictionaries"
   ]
  },
  {
   "cell_type": "markdown",
   "metadata": {},
   "source": [
    "Unordered list of key - value pairs\n",
    "\n",
    "The key has to be unique"
   ]
  },
  {
   "cell_type": "code",
   "execution_count": 75,
   "metadata": {},
   "outputs": [
    {
     "name": "stdout",
     "output_type": "stream",
     "text": [
      "{'cat': 5, 'dog': 6, 'bird': 12}\n",
      "5\n",
      "{'cat': 42, 'dog': 6, 'bird': 12}\n"
     ]
    }
   ],
   "source": [
    "d = {\"cat\": 5, \"dog\": 6, \"bird\": 12}\n",
    "print(d)\n",
    "\n",
    "print(d[\"cat\"]) # get value for key \"cat\"\n",
    "\n",
    "d[\"cat\"] = 42 # set value for key \"cat\"\n",
    "print(d)"
   ]
  },
  {
   "cell_type": "code",
   "execution_count": 78,
   "metadata": {},
   "outputs": [
    {
     "name": "stdout",
     "output_type": "stream",
     "text": [
      "{'cat': 5, 'dog': 6, 'bird': 12}\n",
      "['bird', 'cat', 'dog']\n"
     ]
    }
   ],
   "source": [
    "# sorting dictionary by key\n",
    "d = {\"cat\": 5, \"dog\": 6, \"bird\": 12}\n",
    "print(d)\n",
    "print(sorted(d))"
   ]
  },
  {
   "cell_type": "markdown",
   "metadata": {},
   "source": [
    "more dictionary information can be found at [python documentation](https://docs.python.org/3/tutorial/datastructures.html#dictionaries)"
   ]
  },
  {
   "cell_type": "markdown",
   "metadata": {},
   "source": [
    "## Loops"
   ]
  },
  {
   "cell_type": "code",
   "execution_count": 15,
   "metadata": {},
   "outputs": [
    {
     "name": "stdout",
     "output_type": "stream",
     "text": [
      "a\n",
      "b\n",
      "c\n",
      "Chuck Norris\n",
      "Arnold Schwarzenegger\n",
      "Bruce Willis\n"
     ]
    }
   ],
   "source": [
    "# for loop over list elements\n",
    "my_list = [\"a\", \"b\", \"c\"]\n",
    "for character in my_list:\n",
    "    print(character)\n",
    "for name in [\"Chuck Norris\", \"Arnold Schwarzenegger\", \"Bruce Willis\"]:\n",
    "    print(name)"
   ]
  },
  {
   "cell_type": "code",
   "execution_count": 77,
   "metadata": {},
   "outputs": [
    {
     "name": "stdout",
     "output_type": "stream",
     "text": [
      "0\n",
      "1\n",
      "2\n",
      "3\n",
      "4\n",
      "5\n",
      "6\n",
      "7\n",
      "8\n",
      "9\n"
     ]
    }
   ],
   "source": [
    "# for loop over a range of integers\n",
    "for i in range(10):\n",
    "    print(i)"
   ]
  },
  {
   "cell_type": "code",
   "execution_count": 79,
   "metadata": {},
   "outputs": [
    {
     "name": "stdout",
     "output_type": "stream",
     "text": [
      "H\n",
      "e\n",
      "l\n",
      "l\n",
      "o\n",
      " \n",
      "W\n",
      "o\n",
      "r\n",
      "l\n",
      "d\n"
     ]
    }
   ],
   "source": [
    "# for loop over characters in a string\n",
    "for c in \"Hello World\":\n",
    "    print(c)"
   ]
  },
  {
   "cell_type": "code",
   "execution_count": 80,
   "metadata": {
    "scrolled": true
   },
   "outputs": [
    {
     "name": "stdout",
     "output_type": "stream",
     "text": [
      "0\n",
      "1\n",
      "2\n",
      "3\n",
      "4\n",
      "5\n",
      "6\n",
      "7\n",
      "8\n",
      "9\n"
     ]
    }
   ],
   "source": [
    "# while loop - looping until a clause is fulfilled\n",
    "a = 0\n",
    "while a < 10:\n",
    "    print(a)\n",
    "    a += 1"
   ]
  },
  {
   "cell_type": "markdown",
   "metadata": {},
   "source": [
    "## Casting"
   ]
  },
  {
   "cell_type": "code",
   "execution_count": 85,
   "metadata": {
    "scrolled": true
   },
   "outputs": [
    {
     "name": "stdout",
     "output_type": "stream",
     "text": [
      "10.0\n",
      "<class 'float'>\n",
      "10\n",
      "<class 'str'>\n",
      "10\n",
      "<class 'int'>\n"
     ]
    }
   ],
   "source": [
    "# cast int to float\n",
    "my_float = float(10)\n",
    "print(my_float)\n",
    "print(type(my_float))\n",
    "\n",
    "# cast int to string\n",
    "my_string = str(10)\n",
    "print(my_string)\n",
    "print(type(my_string))\n",
    "\n",
    "# cast float to int\n",
    "my_int = int(10.0)\n",
    "print(my_int)\n",
    "print(type(my_int))"
   ]
  },
  {
   "cell_type": "markdown",
   "metadata": {},
   "source": [
    "## Functions"
   ]
  },
  {
   "cell_type": "markdown",
   "metadata": {},
   "source": [
    "Define a function\n",
    "\n",
    "- Function consists of a \"head\" and a \"body\"\n",
    "- Each function has a return value\n",
    "- If ommited: None is returned\n",
    "- Functions can have arguments\n",
    "- Recursion: functions can call themselves"
   ]
  },
  {
   "cell_type": "code",
   "execution_count": 87,
   "metadata": {},
   "outputs": [
    {
     "name": "stdout",
     "output_type": "stream",
     "text": [
      "3\n"
     ]
    }
   ],
   "source": [
    "# example function\n",
    "def add(val1, val2):   # head\n",
    "    return val1 + val2 # body\n",
    "\n",
    "print(add(1, 2)) # function call"
   ]
  },
  {
   "cell_type": "code",
   "execution_count": 182,
   "metadata": {},
   "outputs": [
    {
     "name": "stdout",
     "output_type": "stream",
     "text": [
      "16\n",
      "\n",
      "    This is a docstring of do_something\n",
      "    It adds 15 to my_value and prints the result\n",
      "    \n"
     ]
    }
   ],
   "source": [
    "# function with no return value\n",
    "def do_something(my_value):\n",
    "    \"\"\"\n",
    "    This is a docstring of do_something\n",
    "    It adds 15 to my_value and prints the result\n",
    "    \"\"\"\n",
    "    result = add(my_value, 15)\n",
    "    print(result)\n",
    "\n",
    "do_something(1)\n",
    "\n",
    "# you can call the explanation of the function\n",
    "print(do_something.__doc__)"
   ]
  },
  {
   "cell_type": "markdown",
   "metadata": {},
   "source": [
    "## Classes"
   ]
  },
  {
   "cell_type": "markdown",
   "metadata": {},
   "source": [
    "- Classes define templates for objects\n",
    "- Class member variables are accessible with: self.\n",
    "- To access member variables \"self\" has to be the first argument in a function of the class"
   ]
  },
  {
   "cell_type": "code",
   "execution_count": 181,
   "metadata": {},
   "outputs": [
    {
     "name": "stdout",
     "output_type": "stream",
     "text": [
      "Audi\n",
      "4\n"
     ]
    }
   ],
   "source": [
    "# example class\n",
    "class Car:\n",
    "    \"\"\"\n",
    "    A class for cars\n",
    "    \"\"\"\n",
    "    def __init__(self, manifacturer, doors): # constructor of the class\n",
    "        self.manifacturer = manifacturer # set the class member manifacturer\n",
    "        self.doors = doors\n",
    "    \n",
    "    def print_doors(self):\n",
    "        print(self.doors)\n",
    "        \n",
    "    def get_values(self):\n",
    "        return self.manifacturer, self.doors\n",
    "\n",
    "# create an instance of the class\n",
    "my_car = Car(\"Audi\", 4)\n",
    "\n",
    "print(my_car.manifacturer)\n",
    "my_car.print_doors()"
   ]
  },
  {
   "cell_type": "markdown",
   "metadata": {},
   "source": [
    "## File processing"
   ]
  },
  {
   "cell_type": "code",
   "execution_count": 107,
   "metadata": {},
   "outputs": [
    {
     "name": "stdout",
     "output_type": "stream",
     "text": [
      "This is a test\n",
      "Something Something\n",
      "Foo\n",
      "Bar\n",
      "\n",
      "<class 'str'>\n"
     ]
    }
   ],
   "source": [
    "# read a file\n",
    "filename = \"file.txt\"\n",
    "\n",
    "# open the file in read only mode\n",
    "fin = open(filename)\n",
    "\n",
    "# read the complete file\n",
    "text = fin.read()\n",
    "print(text)\n",
    "print(type(text))\n",
    "\n",
    "# close the file\n",
    "fin.close()"
   ]
  },
  {
   "cell_type": "code",
   "execution_count": 108,
   "metadata": {},
   "outputs": [
    {
     "name": "stdout",
     "output_type": "stream",
     "text": [
      "['This is a test\\n', 'Something Something\\n', 'Foo\\n', 'Bar\\n']\n",
      "<class 'list'>\n"
     ]
    }
   ],
   "source": [
    "filename = \"file.txt\"\n",
    "fin = open(filename)\n",
    "\n",
    "# get all lines of the file\n",
    "lines = fin.readlines()\n",
    "print(lines)\n",
    "print(type(lines))"
   ]
  },
  {
   "cell_type": "code",
   "execution_count": 110,
   "metadata": {},
   "outputs": [
    {
     "name": "stdout",
     "output_type": "stream",
     "text": [
      "This is a test\n",
      "Something Something\n",
      "Foo\n",
      "Bar\n",
      "\n"
     ]
    }
   ],
   "source": [
    "# you can also use the scope variant\n",
    "\n",
    "with open(\"file.txt\") as fin: # opens the file\n",
    "    text = fin.read()\n",
    "    # the file is opend to this point\n",
    "# here it is closed\n",
    "\n",
    "print(text)"
   ]
  },
  {
   "cell_type": "code",
   "execution_count": 114,
   "metadata": {},
   "outputs": [
    {
     "name": "stdout",
     "output_type": "stream",
     "text": [
      "test\n",
      "\n",
      "test\n",
      "another line\n"
     ]
    }
   ],
   "source": [
    "# write to a file\n",
    "\n",
    "fout = open(\"writefile.txt\", \"w\") # the \"w\" argument opens the file in \"write\" mode\n",
    "fout.write(\"test\") # due to the write mode - the file will be overwritten\n",
    "fout.close()\n",
    "\n",
    "with open(\"writefile.txt\") as f:\n",
    "    print(f.read())\n",
    "    \n",
    "print()\n",
    "    \n",
    "with open(\"writefile.txt\", \"a\") as f: # the \"a\" argument opens the file in \"append\" mode\n",
    "    f.write(\"\\nanother line\")\n",
    "\n",
    "with open(\"writefile.txt\") as f:\n",
    "    print(f.read())"
   ]
  },
  {
   "cell_type": "markdown",
   "metadata": {},
   "source": [
    "## Modules"
   ]
  },
  {
   "cell_type": "markdown",
   "metadata": {},
   "source": [
    "Modules bundle python code together to enable easy access for other scipts\n",
    "\n",
    "```import``` provides the content of a module\n",
    "\n",
    "Standard Python libraries and other external libraries can be imported"
   ]
  },
  {
   "cell_type": "code",
   "execution_count": 116,
   "metadata": {},
   "outputs": [
    {
     "data": {
      "text/plain": [
       "'/usr/lib/python3.6/site-packages/ipykernel_launcher.py'"
      ]
     },
     "execution_count": 116,
     "metadata": {},
     "output_type": "execute_result"
    }
   ],
   "source": [
    "import sys # import of the module sys\n",
    "sys.argv[0] # gives the first command line argument"
   ]
  },
  {
   "cell_type": "code",
   "execution_count": 117,
   "metadata": {
    "scrolled": true
   },
   "outputs": [
    {
     "data": {
      "text/plain": [
       "'/usr/lib/python3.6/site-packages/ipykernel_launcher.py'"
      ]
     },
     "execution_count": 117,
     "metadata": {},
     "output_type": "execute_result"
    }
   ],
   "source": [
    "# an element of the module can also be imported\n",
    "from sys import argv\n",
    "argv[0]"
   ]
  },
  {
   "cell_type": "code",
   "execution_count": 126,
   "metadata": {},
   "outputs": [
    {
     "name": "stdout",
     "output_type": "stream",
     "text": [
      "4.0\n",
      "3.141592653589793\n",
      "50\n",
      "['python_tutorial.ipynb', 'writefile.txt', 'python.png', '.ipynb_checkpoints', 'file.txt']\n"
     ]
    }
   ],
   "source": [
    "# some standard modules\n",
    "import math # math functions\n",
    "print(math.log(16,2)) # gives the binary logarithm of 10\n",
    "print(math.pi)\n",
    "\n",
    "import random # functions to generate random values\n",
    "print(random.randrange(100)) # gives a random number in the range 0-99\n",
    "\n",
    "import os # system functions\n",
    "print(os.listdir(\".\")) # print a list of the files of the current directory"
   ]
  },
  {
   "cell_type": "markdown",
   "metadata": {},
   "source": [
    "## Numpy"
   ]
  },
  {
   "cell_type": "markdown",
   "metadata": {},
   "source": [
    "Numpy is a scientific library for python\n",
    "\n",
    "It provides powerful functions to work with linear algebra such as arrays, vectors and matrices\n",
    "\n",
    "[Numpy Tutorial](https://docs.scipy.org/doc/numpy-dev/user/quickstart.html)"
   ]
  },
  {
   "cell_type": "code",
   "execution_count": 18,
   "metadata": {},
   "outputs": [],
   "source": [
    "import numpy as np # import numpy with an alias"
   ]
  },
  {
   "cell_type": "code",
   "execution_count": 147,
   "metadata": {},
   "outputs": [
    {
     "name": "stdout",
     "output_type": "stream",
     "text": [
      "[[1 2]\n",
      " [1 2]]\n"
     ]
    }
   ],
   "source": [
    "matrix = np.matrix([[1,2],[1,2]]) # create a 2x2 matrix\n",
    "print(matrix)"
   ]
  },
  {
   "cell_type": "code",
   "execution_count": 131,
   "metadata": {},
   "outputs": [
    {
     "name": "stdout",
     "output_type": "stream",
     "text": [
      "[1 2 3]\n"
     ]
    }
   ],
   "source": [
    "my_array = np.array([1,2,3]) # create an array / vector\n",
    "print(my_array)"
   ]
  },
  {
   "cell_type": "code",
   "execution_count": 19,
   "metadata": {},
   "outputs": [
    {
     "name": "stdout",
     "output_type": "stream",
     "text": [
      "[ 0  1  2  3  4  5  6  7  8  9 10 11 12 13 14]\n"
     ]
    }
   ],
   "source": [
    "my_range = np.arange(15) # create an numpy array containing values from 0-14\n",
    "print(my_range)"
   ]
  },
  {
   "cell_type": "code",
   "execution_count": 21,
   "metadata": {},
   "outputs": [
    {
     "name": "stdout",
     "output_type": "stream",
     "text": [
      "[[ 0  1  2  3  4]\n",
      " [ 5  6  7  8  9]\n",
      " [10 11 12 13 14]]\n"
     ]
    }
   ],
   "source": [
    "# reshape the range to a matrix\n",
    "my_matrix = my_range.reshape(3,5) # reshape into matrix with 3 rows and 5 columns\n",
    "print(my_matrix)"
   ]
  },
  {
   "cell_type": "code",
   "execution_count": 148,
   "metadata": {},
   "outputs": [
    {
     "name": "stdout",
     "output_type": "stream",
     "text": [
      "[[0. 0. 0. 0.]\n",
      " [0. 0. 0. 0.]\n",
      " [0. 0. 0. 0.]]\n"
     ]
    }
   ],
   "source": [
    "# create a matrix with only 0 values\n",
    "zero_matrix = np.zeros((3,4)) # 3x4 matrix\n",
    "print(zero_matrix)"
   ]
  },
  {
   "cell_type": "code",
   "execution_count": 149,
   "metadata": {},
   "outputs": [
    {
     "name": "stdout",
     "output_type": "stream",
     "text": [
      "[[1. 1. 1. 1.]\n",
      " [1. 1. 1. 1.]\n",
      " [1. 1. 1. 1.]]\n"
     ]
    }
   ],
   "source": [
    "# create a matrix with only 1 values\n",
    "one_matrix = np.ones((3,4)) # 3x4 matrix\n",
    "print(one_matrix)"
   ]
  },
  {
   "cell_type": "code",
   "execution_count": 152,
   "metadata": {},
   "outputs": [
    {
     "name": "stdout",
     "output_type": "stream",
     "text": [
      "(3, 4)\n"
     ]
    }
   ],
   "source": [
    "# get the shape of a matrix\n",
    "print(one_matrix.shape)"
   ]
  },
  {
   "cell_type": "code",
   "execution_count": 153,
   "metadata": {
    "scrolled": true
   },
   "outputs": [
    {
     "name": "stdout",
     "output_type": "stream",
     "text": [
      "12\n"
     ]
    }
   ],
   "source": [
    "# get the size of a matrix\n",
    "print(one_matrix.size)"
   ]
  },
  {
   "cell_type": "markdown",
   "metadata": {},
   "source": [
    "### Basic Numpy Operations"
   ]
  },
  {
   "cell_type": "code",
   "execution_count": 159,
   "metadata": {},
   "outputs": [
    {
     "name": "stdout",
     "output_type": "stream",
     "text": [
      "[0 1 2 3]\n",
      "[0 1 2 3]\n",
      "[0 2 4 6]\n"
     ]
    }
   ],
   "source": [
    "# addition\n",
    "a = np.arange(4)\n",
    "b = np.arange(4)\n",
    "print(a)\n",
    "print(b)\n",
    "\n",
    "c = a + b # add b to a\n",
    "print(c)"
   ]
  },
  {
   "cell_type": "code",
   "execution_count": 157,
   "metadata": {},
   "outputs": [
    {
     "name": "stdout",
     "output_type": "stream",
     "text": [
      "[20 30 40 50]\n",
      "[0 1 2 3]\n",
      "[20 29 38 47]\n"
     ]
    }
   ],
   "source": [
    "# subtraction\n",
    "a = np.array([20,30,40,50])\n",
    "b = np.arange(4)\n",
    "print(a)\n",
    "print(b)\n",
    "\n",
    "c = a-b # subtract b from a\n",
    "print(c)"
   ]
  },
  {
   "cell_type": "code",
   "execution_count": 163,
   "metadata": {},
   "outputs": [
    {
     "name": "stdout",
     "output_type": "stream",
     "text": [
      "[0 1 2 3]\n",
      "[0 2 4 6]\n"
     ]
    }
   ],
   "source": [
    "# multiplication\n",
    "a = np.arange(4)\n",
    "print(a)\n",
    "\n",
    "c = a * 2\n",
    "print(c)"
   ]
  },
  {
   "cell_type": "code",
   "execution_count": 161,
   "metadata": {},
   "outputs": [
    {
     "name": "stdout",
     "output_type": "stream",
     "text": [
      "[0 1 2 3]\n",
      "[0 1 4 9]\n"
     ]
    }
   ],
   "source": [
    "# exponentiation\n",
    "b = np.arange(4)\n",
    "print(b)\n",
    "c = b**2\n",
    "print(c)"
   ]
  },
  {
   "cell_type": "code",
   "execution_count": 164,
   "metadata": {
    "scrolled": false
   },
   "outputs": [
    {
     "name": "stdout",
     "output_type": "stream",
     "text": [
      "[0 1 2 3]\n",
      "[0.  0.5 1.  1.5]\n"
     ]
    }
   ],
   "source": [
    "# division\n",
    "a = np.arange(4)\n",
    "print(a)\n",
    "\n",
    "c = a / 2\n",
    "print(c)"
   ]
  },
  {
   "cell_type": "markdown",
   "metadata": {},
   "source": [
    "### Slicing in Numpy"
   ]
  },
  {
   "cell_type": "code",
   "execution_count": 169,
   "metadata": {},
   "outputs": [
    {
     "name": "stdout",
     "output_type": "stream",
     "text": [
      "[  0   1   8  27  64 125 216 343 512 729]\n",
      "8\n",
      "[ 8 27 64]\n",
      "[729 512 343 216 125  64  27   8   1   0]\n"
     ]
    }
   ],
   "source": [
    "a = np.arange(10)**3\n",
    "print(a)\n",
    "\n",
    "print(a[2]) # get the element at index 2\n",
    "\n",
    "print(a[2:5]) # get the elements from index 2 to intex 4\n",
    "\n",
    "print(a[: : -1]) # reverse a"
   ]
  },
  {
   "cell_type": "code",
   "execution_count": 173,
   "metadata": {},
   "outputs": [
    {
     "name": "stdout",
     "output_type": "stream",
     "text": [
      "[[ 0  1  2  3]\n",
      " [ 4  5  6  7]\n",
      " [ 8  9 10 11]\n",
      " [12 13 14 15]\n",
      " [16 17 18 19]]\n",
      "\n",
      "[ 1  5  9 13 17]\n"
     ]
    }
   ],
   "source": [
    "# multidimensional arrays\n",
    "\n",
    "a = np.arange(20).reshape(5,4)\n",
    "print(a)\n",
    "\n",
    "print()\n",
    "\n",
    "print(a[:, 1]) # get for each row element at index 1"
   ]
  },
  {
   "cell_type": "markdown",
   "metadata": {},
   "source": [
    "### Splitting Arrays in Numpy"
   ]
  },
  {
   "cell_type": "code",
   "execution_count": 30,
   "metadata": {},
   "outputs": [
    {
     "name": "stdout",
     "output_type": "stream",
     "text": [
      "[[ 0  1  2  3]\n",
      " [ 4  5  6  7]\n",
      " [ 8  9 10 11]\n",
      " [12 13 14 15]\n",
      " [16 17 18 19]]\n",
      "\n",
      "[[ 0  1]\n",
      " [ 4  5]\n",
      " [ 8  9]\n",
      " [12 13]\n",
      " [16 17]]\n",
      "[[ 2  3]\n",
      " [ 6  7]\n",
      " [10 11]\n",
      " [14 15]\n",
      " [18 19]]\n"
     ]
    }
   ],
   "source": [
    "#### a = np.arange(20).reshape(5,4)\n",
    "print(a)\n",
    "\n",
    "print()\n",
    "\n",
    "first,second = np.hsplit(a,2) # horizontal split into 2 arrays\n",
    "print(first)\n",
    "print(second)\n",
    "#print(a,b,c,d)\n",
    "#print(b)"
   ]
  },
  {
   "cell_type": "markdown",
   "metadata": {},
   "source": [
    "## Help in Python"
   ]
  },
  {
   "cell_type": "markdown",
   "metadata": {},
   "source": [
    "```help()``` calls the python help system\n",
    "\n",
    "example: ```help(min)``` shows what the function ```min()``` does as long as the function has a docstring"
   ]
  },
  {
   "cell_type": "markdown",
   "metadata": {},
   "source": [
    "## Python2 vs Python3 example"
   ]
  },
  {
   "cell_type": "code",
   "execution_count": 5,
   "metadata": {},
   "outputs": [],
   "source": [
    "# Python2 print\n",
    "#print \"Hello World\"\n",
    "\n",
    "# Python3 print\n",
    "print(\"Hello World\")"
   ]
  },
  {
   "cell_type": "markdown",
   "metadata": {},
   "source": [
    "# **<span style=\"color:red\">In this course we are going to use Python3!</span>**"
   ]
  },
  {
   "cell_type": "markdown",
   "metadata": {},
   "source": [
    "## Install Python3\n",
    "#### Anaconda\n",
    "[Anaconda](https://anaconda.org/anaconda/python)\n",
    "\n",
    "[How to install Python3 with Anaconda on Windows](https://medium.com/@GalarnykMichael/install-python-on-windows-anaconda-c63c7c3d1444)\n",
    "\n",
    "[How to install Python3 with Anaconda on Ubuntu](https://www.digitalocean.com/community/tutorials/how-to-install-the-anaconda-python-distribution-on-ubuntu-16-04)\n",
    "\n",
    "#### Or: use your packet manager\n",
    "For Linux user it is more easy (eg. Ubuntu with pip):\n",
    "\n",
    "```sudo apt install python3```\n",
    "\n",
    "#### Or: install it by hand\n",
    "Follow the instructions [here](https://wiki.python.org/moin/BeginnersGuide/Download)\n",
    "\n",
    "\n",
    "### Use a Texteditor of your own choice\n",
    "- [Visual Studio Code](https://code.visualstudio.com/)\n",
    "- [Sublime Text](https://www.sublimetext.com/3)\n",
    "- [Atom](https://atom.io/)\n",
    "- [Notepad++](https://notepad-plus-plus.org/)\n",
    "- [PyCharm](https://www.jetbrains.com/pycharm/)\n",
    "- VIM\n",
    "- EMACS\n",
    "- etc..."
   ]
  },
  {
   "cell_type": "markdown",
   "metadata": {},
   "source": [
    "## Install NumPy\n",
    "**with Anaconda**\n",
    "\n",
    "```conda install -c anaconda numpy```\n",
    "\n",
    "**with Pip**\n",
    "\n",
    "```pip3 install numpy```"
   ]
  },
  {
   "cell_type": "markdown",
   "metadata": {},
   "source": [
    "## Install Jupyter Notebook"
   ]
  },
  {
   "cell_type": "markdown",
   "metadata": {},
   "source": [
    "Follow the instructions on this [tutorial](http://jupyter.readthedocs.io/en/latest/install.html)"
   ]
  },
  {
   "cell_type": "markdown",
   "metadata": {},
   "source": [
    "## Executing"
   ]
  },
  {
   "cell_type": "markdown",
   "metadata": {},
   "source": [
    "- Write your scipt in a text editor\n",
    "- Save it as a .py file\n",
    "\n",
    "execute python script:\n",
    "\n",
    "```python3 scriptname.py```\n",
    "\n",
    "with arguments:\n",
    "\n",
    "```python3 scriptname.py param1 param2```"
   ]
  },
  {
   "cell_type": "markdown",
   "metadata": {},
   "source": [
    "## Styleguide\n",
    "- Use **whitespaces** for indentation\n",
    "- <span style=\"color:red\">Never use tabs for indentation!!</span>\n",
    "- Default whitespace count: 4\n",
    "- limit lines to max. 80 characters to provide a good readability\n",
    "- use docstrings and comments!\n",
    "- name classes CamelCase\n",
    "- name functions lower_case_with_underscores\n",
    "- check out [PEP8](https://www.python.org/dev/peps/pep-0008/)"
   ]
  },
  {
   "cell_type": "markdown",
   "metadata": {},
   "source": [
    "## Links"
   ]
  },
  {
   "cell_type": "markdown",
   "metadata": {},
   "source": [
    "- [Python Tutorial](https://docs.python.org/3/tutorial/index.html)\n",
    "- [Styleguide](https://www.python.org/dev/peps/pep-0008/)\n",
    "- [Numpy Quickstart](https://docs.scipy.org/doc/numpy-dev/user/quickstart.html)"
   ]
  }
 ],
 "metadata": {
  "kernelspec": {
   "display_name": "Python 3",
   "language": "python",
   "name": "python3"
  },
  "language_info": {
   "codemirror_mode": {
    "name": "ipython",
    "version": 3
   },
   "file_extension": ".py",
   "mimetype": "text/x-python",
   "name": "python",
   "nbconvert_exporter": "python",
   "pygments_lexer": "ipython3",
   "version": "3.6.4"
  }
 },
 "nbformat": 4,
 "nbformat_minor": 2
}
