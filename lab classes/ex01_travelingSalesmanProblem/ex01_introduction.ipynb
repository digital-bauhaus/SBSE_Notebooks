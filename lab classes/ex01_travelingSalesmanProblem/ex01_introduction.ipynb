{
 "cells": [
  {
   "cell_type": "markdown",
   "metadata": {},
   "source": [
    "# Search Based Software Engineering\n",
    "## Exercise 01 - Traveling Salesman Problem Introduction\n",
    "### by André Karge - andre.karge@uni-weimar.de\n",
    "(Based on the exercise of Anne Peter)"
   ]
  },
  {
   "cell_type": "markdown",
   "metadata": {},
   "source": [
    "The Traveling Salesman Problem (TSP) is given by the following question: *“Given is a list of cities and distances between each pair of cities - what is the shortest route that visits each city and returns to the original city?”*\n",
    "\n",
    "The TSP is an **NP-Hard-Problem** which does not mean an instance of the  problem will be hard to solve. It means, there does not exist an algorithm that produces the best solution in polynomial time. We can not make predictions about how long it might take to find the best solution. But, we can find a good solution which might not be the best solution. It is ok to find a route amongst 1000 cities that is only few miles longer than the best route. Particularly, if it would take an inordinate amount amount of computing time to get from our good solution to the best solution."
   ]
  },
  {
   "cell_type": "markdown",
   "metadata": {},
   "source": [
    "![germany TSP](./TSP_Deutschland_3.png)"
   ]
  },
  {
   "cell_type": "markdown",
   "metadata": {},
   "source": [
    "## Representation of the Problem"
   ]
  },
  {
   "cell_type": "markdown",
   "metadata": {},
   "source": [
    "<img src=\"./Graph_TSP.png\" align=\"left\">\n",
    "A TSP can be modelled as an undirected weighted graph:\n",
    "        - cities = vertices\n",
    "        - paths between cities = edges\n",
    "        - distance of a path = weight of an edge\n",
    "<!--![graph](./Graph_TSP.png)-->"
   ]
  },
  {
   "cell_type": "markdown",
   "metadata": {},
   "source": [
    "This graph can be represented as an **Adjacency matrix**:\n",
    "\n",
    "\n",
    "|        | A     | B     | C     | D     |\n",
    "| :----: | :---: | :---: | :---: | :---: |\n",
    "| **A**  |  0    | 20    | 42    | 35    |\n",
    "| **B**  | 20    | 0     | 30    | 34    |\n",
    "| **C**  | 42    | 30    | 0     | 12    |\n",
    "| **D**  | 35    | 34    | 12    | 0     |"
   ]
  },
  {
   "cell_type": "markdown",
   "metadata": {},
   "source": [
    "## Introduction"
   ]
  },
  {
   "cell_type": "markdown",
   "metadata": {},
   "source": [
    "Euclidean distance between two points p<sub>1</sub> = (x<sub>1</sub>, y<sub>1</sub>) and p<sub>2</sub> = (x<sub>2</sub>, y<sub>2</sub>) is:\n",
    "\n",
    "$d(p_{1},p_{2}) = \\sqrt{(x_{1} - x_{2})^2 + (y_{1} - y_{2})^2}$"
   ]
  },
  {
   "cell_type": "code",
   "execution_count": 2,
   "metadata": {},
   "outputs": [],
   "source": [
    "from itertools import permutations\n",
    "\n",
    "def distance(p1, p2):\n",
    "    \"\"\"\n",
    "    Returns the Euclidean distance of two points in the Cartesian Plane.\n",
    "\n",
    "    >>> distance([3,4],[0,0])\n",
    "    5.0\n",
    "    \n",
    "    \"\"\"\n",
    "    return ((p1[0] - p2[0])**2 + (p1[1] - p2[1])**2) ** 0.5"
   ]
  },
  {
   "cell_type": "code",
   "execution_count": 3,
   "metadata": {},
   "outputs": [
    {
     "name": "stdout",
     "output_type": "stream",
     "text": [
      "4.0\n"
     ]
    }
   ],
   "source": [
    "print(distance([3,6],[7,6]))"
   ]
  },
  {
   "cell_type": "code",
   "execution_count": 4,
   "metadata": {},
   "outputs": [],
   "source": [
    "def total_distance(points):\n",
    "    \"\"\"\n",
    "    Returns the length of the path passing throught\n",
    "    all the points in the given order.\n",
    "\n",
    "    >>> total_distance([[1,2],[4,6]])\n",
    "    5.0\n",
    "    >>> total_distance([[3,6],[7,6],[12,6]])\n",
    "    9.0\n",
    "    \"\"\"\n",
    "    return sum([distance(point, points[index + 1]) for index, point in enumerate(points[:-1])])"
   ]
  },
  {
   "cell_type": "markdown",
   "metadata": {},
   "source": [
    "- keep in mind that \\[:-1\\] means \"all elements if the list without the last\"\n",
    "- *enumerate* is a function to enumerate all elements of a given sequence"
   ]
  },
  {
   "cell_type": "code",
   "execution_count": 5,
   "metadata": {},
   "outputs": [
    {
     "name": "stdout",
     "output_type": "stream",
     "text": [
      "[(0, 'spring'), (1, 'summer'), (2, 'fall'), (3, 'winter')]\n"
     ]
    }
   ],
   "source": [
    "# enumerate example\n",
    "seasons = ['spring', 'summer', 'fall', 'winter']\n",
    "print(list(enumerate(seasons)))"
   ]
  },
  {
   "cell_type": "code",
   "execution_count": 6,
   "metadata": {},
   "outputs": [],
   "source": [
    "def traveling_salesman(points, start = None):\n",
    "    \"\"\"\n",
    "    Finds the shortest route to visit all the cities by bruteforce.\n",
    "    Time complexity is O(N!), so never use on long lists.\n",
    "\n",
    "    >>> travelling_salesman([[0,0],[10,0],[6,0]])\n",
    "    ([0, 0], [6, 0], [10, 0])\n",
    "    >>> travelling_salesman([[0,0],[6,0],[2,3],[3,7],[0.5,9],[3,5],[9,1]])\n",
    "    ([0, 0], [6, 0], [9, 1], [2, 3], [3, 5], [3, 7], [0.5, 9])\n",
    "    \"\"\"\n",
    "    if start is None:\n",
    "        start = points[0]\n",
    "    return min([perm for perm in permutations(points) if perm[0] == start], key = total_distance)"
   ]
  },
  {
   "cell_type": "markdown",
   "metadata": {},
   "source": [
    "- *permutations* returns tuples with all possible orderings without repeat\n",
    "- function returns minimum of all possible tuples by the help of the function *total_distance* from above"
   ]
  },
  {
   "cell_type": "code",
   "execution_count": 21,
   "metadata": {},
   "outputs": [
    {
     "name": "stdout",
     "output_type": "stream",
     "text": [
      "calculation time 0:00:00.025904\n",
      "\n",
      "    The minimum distance to visit all \n",
      "    of the following points:\n",
      "\n",
      "    [[0, 0], [1, 5.7], [2, 3], [3, 7], [0.5, 9], [3, 5], [9, 1], [10, 5]]\n",
      "    \n",
      "    starting at\n",
      "    [0, 0] is 25.90302275027582 and takes this\n",
      "    route:\n",
      "    ([0, 0], [2, 3], [3, 5], [1, 5.7], [0.5, 9], [3, 7], [10, 5], [9, 1])\n"
     ]
    }
   ],
   "source": [
    "import datetime\n",
    "def main():\n",
    "    points = [\n",
    "        [0, 0],\n",
    "        [1, 5.7],\n",
    "        [2, 3],\n",
    "        [3, 7],\n",
    "        [0.5, 9],\n",
    "        [3, 5],\n",
    "        [9, 1],\n",
    "        [10, 5],\n",
    "        [20, 5],\n",
    "        [12, 12],\n",
    "        [20, 19],\n",
    "        [25, 6],\n",
    "        [23, 7]\n",
    "    ]\n",
    "    \n",
    "    points = points[:-5]\n",
    "    #points = points[:-4]\n",
    "    #points = points[:-3]\n",
    "    #points = points[:-2]\n",
    "              \n",
    "    \n",
    "    then = datetime.datetime.now()\n",
    "    result = traveling_salesman(points)\n",
    "    distance_result = total_distance(result)\n",
    "    now = datetime.datetime.now()\n",
    "    print(\"calculation time\", now - then)\n",
    "    print(\"\"\"\n",
    "    The minimum distance to visit all \n",
    "    of the following points:\\n\n",
    "    {0}\n",
    "    \n",
    "    starting at\n",
    "    {1} is {2} and takes this\n",
    "    route:\n",
    "    {3}\"\"\".format(\n",
    "        points,\n",
    "        points[0],\n",
    "        distance_result,\n",
    "        result))\n",
    "\n",
    "if __name__ == \"__main__\":\n",
    "    main()"
   ]
  },
  {
   "cell_type": "markdown",
   "metadata": {},
   "source": [
    "## Solving TSP with Hill Climbing"
   ]
  },
  {
   "cell_type": "markdown",
   "metadata": {},
   "source": [
    "#### Recap: Hill Climbing"
   ]
  },
  {
   "cell_type": "markdown",
   "metadata": {},
   "source": [
    "Idea:\n",
    "- use only your local solution and evaluate your \n",
    "neighbors to find a better one\n",
    "- repeat this step until no better neighbor exists\n",
    "\n",
    "Pros:\n",
    "- requires few resources (current state and neighbors)\n",
    "- finds local optimum (global is possible)\n",
    "- useful if the search space is huge (even unlimited)\n",
    "\n",
    "Cons:\n",
    "\n",
    "- is prone to get stuck at the top of local maximum and on plateaus\n",
    "- strongly depends on “good” initialization\n",
    "\n",
    "We will use standard Python lists to represent a route through our collection of cities. Each city will simply be assigned to a number from 0 to N-1 where N is the number of cities. Therefore, our list of cities will be a list of uniquie numbers between 0 and N-1"
   ]
  },
  {
   "cell_type": "markdown",
   "metadata": {},
   "source": [
    "![HC](./HC.jpg)"
   ]
  },
  {
   "cell_type": "markdown",
   "metadata": {},
   "source": [
    "#### Adjacency Matrix"
   ]
  },
  {
   "cell_type": "markdown",
   "metadata": {},
   "source": [
    "We also need to specify a \"distance matrix\" that we can use to keep track of distances between cities. To generate a distance matrix for a set of (x,y) coordinates we will use the following function:"
   ]
  },
  {
   "cell_type": "code",
   "execution_count": 22,
   "metadata": {},
   "outputs": [],
   "source": [
    "def cartesian_matrix(coordinates):\n",
    "    '''\n",
    "    Creates a distance matrix for the city coords using straight line distances\n",
    "    computed by the Euclidean distance of two points in the Cartesian Plane.\n",
    "    '''\n",
    "    matrix = {}\n",
    "    for i, (x1, y1) in enumerate(coordinates):\n",
    "        for j, (x2, y2) in enumerate(coordinates):\n",
    "            dx, dy = x1 - x2, y1 - y2\n",
    "            distance = (dx ** 2 + dy ** 2) ** 0.5\n",
    "            matrix[i,j] = distance\n",
    "    return matrix"
   ]
  },
  {
   "cell_type": "markdown",
   "metadata": {},
   "source": [
    "This function takes a list of (x,y) tuples and outputs a dictionary that contains the distance between any pair of cities:"
   ]
  },
  {
   "cell_type": "code",
   "execution_count": 34,
   "metadata": {},
   "outputs": [
    {
     "name": "stdout",
     "output_type": "stream",
     "text": [
      "{(0, 1): 1.0, (1, 2): 1.0, (0, 0): 0.0, (2, 0): 1.4142135623730951, (1, 0): 1.0, (2, 2): 0.0, (0, 2): 1.4142135623730951, (2, 1): 1.0, (1, 1): 0.0}\n",
      "\n",
      "1.4142135623730951\n"
     ]
    }
   ],
   "source": [
    "m = cartesian_matrix([(0,0), (1,0), (1,1)])\n",
    "print(m)\n",
    "print()\n",
    "print(m[2,0])"
   ]
  },
  {
   "cell_type": "markdown",
   "metadata": {},
   "source": [
    "\\[2,0\\] gives the distance between the city with number 2 and the city with  number 0.\n",
    "In our case the result of \\[2,0\\] is the same for \\[0,2\\], but for other TSPs this may not be the case (for example if a street between two cities is only one way - we have to take another route)"
   ]
  },
  {
   "cell_type": "markdown",
   "metadata": {},
   "source": [
    "#### Read City Coordinates from File"
   ]
  },
  {
   "cell_type": "code",
   "execution_count": 36,
   "metadata": {},
   "outputs": [],
   "source": [
    "def read_coords(file_handle):\n",
    "    coords = []\n",
    "    for line in file_handle:\n",
    "        x,y = line.strip().split(',')\n",
    "        coords.append((float(x), float(y)))\n",
    "    return coords\n",
    "\n",
    "with open('city100.txt', 'r') as coord_file:\n",
    "    coords = read_coords(coord_file)\n",
    "matrix = cartesian_matrix(coords)"
   ]
  },
  {
   "cell_type": "markdown",
   "metadata": {},
   "source": [
    "On real world problems it may be more complicated to generate a distance matrix - you might need to take a map and calculate the real distances between cities."
   ]
  },
  {
   "cell_type": "markdown",
   "metadata": {},
   "source": [
    "#### Compute the Total Distance"
   ]
  },
  {
   "cell_type": "code",
   "execution_count": 57,
   "metadata": {},
   "outputs": [],
   "source": [
    "def tour_length(matrix, tour):\n",
    "    \"\"\"Sum up the total length of the tour based on the distance matrix\"\"\"\n",
    "    result = 0\n",
    "    num_cities = len(list(tour))\n",
    "    for i in range(num_cities):\n",
    "        j = (i+1) % num_cities\n",
    "        city_i = tour[i]\n",
    "        city_j = tour[j]\n",
    "        result += matrix[city_i, city_j]\n",
    "    return result"
   ]
  },
  {
   "cell_type": "markdown",
   "metadata": {},
   "source": [
    "#### Implementing Tweak Operators"
   ]
  },
  {
   "cell_type": "markdown",
   "metadata": {},
   "source": [
    "We will implement the two tweak operators as generator functions that will return all possible versions of a route that can be made in one step of the generator (in a random order)."
   ]
  },
  {
   "cell_type": "markdown",
   "metadata": {},
   "source": [
    "Generators are iterators which can be only iterated once.\n",
    "They generate values on the fly and do not store them in memory.\n",
    "By using a generator function, we can each possiblility and perhaps decide to not generate any more variations.\n",
    "This saves the overhead of generating all combinations at once."
   ]
  },
  {
   "cell_type": "code",
   "execution_count": 40,
   "metadata": {},
   "outputs": [],
   "source": [
    "import random\n",
    "\n",
    "def all_pairs(size, shuffle = random.shuffle):\n",
    "    r1 = list(range(size))\n",
    "    r2 = list(range(size))\n",
    "    if shuffle:\n",
    "        shuffle(r1)\n",
    "        shuffle(r2)\n",
    "    for i in r1:\n",
    "        for j in r2:\n",
    "            yield(i,j) # yield is an iterator function\n",
    "            # for each call of the generator it returns the next value in yield"
   ]
  },
  {
   "cell_type": "code",
   "execution_count": 50,
   "metadata": {
    "scrolled": true
   },
   "outputs": [
    {
     "name": "stdout",
     "output_type": "stream",
     "text": [
      "[1, 2, 4, 3]\n",
      "[4, 2, 3, 1]\n",
      "[2, 1, 3, 4]\n",
      "[3, 2, 1, 4]\n",
      "[1, 4, 3, 2]\n",
      "[1, 3, 2, 4]\n",
      "\n",
      "[2, 1, 3, 4]\n",
      "[3, 2, 1, 4]\n",
      "[4, 3, 2, 1]\n",
      "[4, 2, 3, 1]\n",
      "[4, 1, 2, 3]\n",
      "[1, 2, 4, 3]\n",
      "[2, 3, 4, 1]\n",
      "[3, 4, 2, 1]\n",
      "[4, 3, 1, 2]\n",
      "[1, 3, 2, 4]\n",
      "[1, 4, 3, 2]\n"
     ]
    }
   ],
   "source": [
    "from copy import deepcopy\n",
    "\n",
    "# Tweak 1\n",
    "def swapped_cities(tour):\n",
    "    \"\"\"\n",
    "    Generator to create all possible variations where two \n",
    "    cities have been swapped\n",
    "    \"\"\"\n",
    "    for i,j in all_pairs(len(tour)):\n",
    "        if i < j:\n",
    "            copy = deepcopy(tour)\n",
    "            copy[i], copy[j] = tour[j], tour[i]\n",
    "            yield copy\n",
    "\n",
    "# Tweak 2\n",
    "def reversed_sections(tour):\n",
    "    \"\"\"\n",
    "    Generator to return all possible variations where the\n",
    "    section between two cities are swapped.\n",
    "    It preserves entire sections of a route,\n",
    "    yet still affects the ordering of multiple cities in one go.\n",
    "    \"\"\"\n",
    "    for i,j in all_pairs(len(tour)):\n",
    "        if i != j:\n",
    "            copy = deepcopy(tour)\n",
    "            if i < j:\n",
    "                copy[i:j+1] = reversed(tour[i:j+1])\n",
    "            else:\n",
    "                copy[i+1:] = reversed(tour[:j])\n",
    "                copy[:j] = reversed(tour[i+1:])\n",
    "            if copy != tour: # not returning same tour\n",
    "                yield copy\n",
    "# usage\n",
    "for tour in swapped_cities([1,2,3,4]):\n",
    "    print(tour)\n",
    "print()\n",
    "for tour in reversed_sections([1,2,3,4]):\n",
    "    print(tour)"
   ]
  },
  {
   "cell_type": "markdown",
   "metadata": {},
   "source": [
    "#### Getting Started with Hill Climbing"
   ]
  },
  {
   "cell_type": "markdown",
   "metadata": {},
   "source": [
    "To start with Hill Climbing, we need two functions:\n",
    "- init function that returns a random solution\n",
    "- objective function that tells us how \"good\" a solution is\n",
    "\n",
    "For the TSP, an init function will just return a tour of correct length that has cities aranged in random order.\n",
    "\n",
    "The objective function will return the length of a tour.\n",
    "\n",
    "We need to ensure that init function takes no arguments and returns a tour of the correct length and the objective function takes one argument (the solution tour) and returns its length.\n",
    "\n",
    "Assume we have the city coordinates in a variable *coords* and our distance matrix in *matrix*, we can define the objective function and init function by using *init_random_tour*:"
   ]
  },
  {
   "cell_type": "code",
   "execution_count": 147,
   "metadata": {},
   "outputs": [],
   "source": [
    "def init_random_tour(tour_length):\n",
    "    tour = list(range(tour_length))\n",
    "    random.shuffle(list(tour))\n",
    "    return tour\n",
    "\n",
    "init_function = lambda: init_random_tour(len(coords))\n",
    "objective_function = lambda tour: tour_length(matrix, tour)"
   ]
  },
  {
   "cell_type": "markdown",
   "metadata": {},
   "source": [
    "#### Short Explanation of Lambda Functions\n",
    "is the creation of an anonymous function\n",
    "- lambda definition does not include a return statement\n",
    "- it always contains an expression which is returned\n",
    "- you can put a lambda definition anywhere a function is expected\n",
    "- you don't have to assign it to a variable"
   ]
  },
  {
   "cell_type": "code",
   "execution_count": 52,
   "metadata": {},
   "outputs": [
    {
     "name": "stdout",
     "output_type": "stream",
     "text": [
      "25\n",
      "25\n"
     ]
    }
   ],
   "source": [
    "# normal function definition\n",
    "def f(x): return x**2\n",
    "\n",
    "# lambda function definition\n",
    "g = lambda x: x**2\n",
    "print(f(5))\n",
    "print(g(5))"
   ]
  },
  {
   "cell_type": "markdown",
   "metadata": {},
   "source": [
    "## Basic Hill Climbing"
   ]
  },
  {
   "cell_type": "code",
   "execution_count": 149,
   "metadata": {},
   "outputs": [],
   "source": [
    "def hc(init_function, move_operator, objective_function, max_evaluations):\n",
    "    '''\n",
    "    Hillclimb until either max_evaluations is \n",
    "    reached or we are at a local optima.\n",
    "    '''\n",
    "    best = init_function()\n",
    "    best_score = objective_function(best)\n",
    "    \n",
    "    num_evaluations = 1\n",
    "    \n",
    "    while num_evaluations < max_evaluations:\n",
    "        # move around the current position\n",
    "        move_made = False\n",
    "        for next in move_operator(best):\n",
    "            if num_evaluations >= max_evaluations:\n",
    "                break\n",
    "            \n",
    "            next_score = objective_function(next)\n",
    "            num_evaluations += 1\n",
    "            if next_score < best_score:\n",
    "                best = next\n",
    "                best_score = next_score\n",
    "                move_made = True\n",
    "                break # depth first search\n",
    "        if not move_made:\n",
    "            break # couldn't find better move - must be a local max\n",
    "    return (num_evaluations, best_score, best)"
   ]
  },
  {
   "cell_type": "code",
   "execution_count": 232,
   "metadata": {},
   "outputs": [],
   "source": [
    "from PIL import Image, ImageDraw, ImageFont\n",
    "\n",
    "def write_tour_to_img(coords, tour, title, img_file):\n",
    "    padding = 20\n",
    "    # shift all coords in a bit\n",
    "    coords = [(x+padding,y+padding) for (x,y) in coords]\n",
    "    maxx, maxy = 0,0\n",
    "    for x,y in coords:\n",
    "        maxx = max(x,maxx)\n",
    "        maxy = max(y,maxy)\n",
    "    maxx += padding\n",
    "    maxy += padding\n",
    "    img = Image.new(\"RGB\",(int(maxx), int(maxy)), color=(255,255,255))\n",
    "    \n",
    "    font=ImageFont.load_default()\n",
    "    d=ImageDraw.Draw(img);\n",
    "    num_cities = len(tour)\n",
    "    for i in range(num_cities):\n",
    "        j = (i+1) % num_cities\n",
    "        city_i = tour[i]\n",
    "        city_j = tour[j]\n",
    "        x1,y1 = coords[city_i]\n",
    "        x2,y2 = coords[city_j]\n",
    "        d.line((int(x1), int(y1), int(x2), int(y2)), fill=(0,0,0))\n",
    "        d.text((int(x1)+7, int(y1)-5), str(i), font=font, fill=(32,32,32))\n",
    "    \n",
    "    \n",
    "    for x,y in coords:\n",
    "        x,y = int(x), int(y)\n",
    "        d.ellipse((x-5, y-5, x+5, y+5), outline=(0,0,0), fill=(196,196,196))\n",
    "    \n",
    "    d.text((1,1), title, font=font, fill=(0,0,0))\n",
    "    \n",
    "    del d\n",
    "    img.save(img_file, \"PNG\")"
   ]
  },
  {
   "cell_type": "code",
   "execution_count": 233,
   "metadata": {},
   "outputs": [],
   "source": [
    "def reload_image_for_jupyter(filename):\n",
    "    # pick a random integer with 1 in 2 billion chance of getting the same\n",
    "    # integer twice\n",
    "    import random\n",
    "    __counter__ = random.randint(0,2e9)\n",
    "\n",
    "    # now use IPython's rich display to display the html image with the\n",
    "    # new argument\n",
    "    from IPython.display import HTML, display\n",
    "    display(HTML('<img src=\"./'+filename+'?%d\" alt=\"Schema of adaptive filter\" height=\"100\">' % __counter__))\n"
   ]
  },
  {
   "cell_type": "code",
   "execution_count": 254,
   "metadata": {},
   "outputs": [],
   "source": [
    "def do_hc_evaluations(evaluations , move_operator = swapped_cities):\n",
    "    max_evaluations = evaluations\n",
    "    then = datetime.datetime.now()\n",
    "    num_evaluations, best_score, best = hc(init_function, move_operator, objective_function, max_evaluations)\n",
    "    now = datetime.datetime.now()\n",
    "\n",
    "    print(\"computation time \", now - then)\n",
    "    print(best_score)\n",
    "    print(best)\n",
    "    filename = \"test\"+str(max_evaluations)+\".PNG\"\n",
    "    write_tour_to_img(coords, best, filename, open(filename, \"ab\"))\n",
    "    reload_image_for_jupyter(filename)"
   ]
  },
  {
   "cell_type": "code",
   "execution_count": 255,
   "metadata": {},
   "outputs": [
    {
     "name": "stdout",
     "output_type": "stream",
     "text": [
      "computation time  0:00:00.033558\n",
      "18280.516188122754\n",
      "[56, 1, 67, 3, 79, 5, 66, 19, 20, 99, 23, 16, 74, 13, 6, 15, 11, 45, 18, 26, 61, 41, 88, 10, 24, 25, 14, 27, 95, 29, 35, 49, 4, 33, 37, 30, 50, 43, 8, 39, 34, 78, 42, 46, 44, 7, 93, 28, 17, 31, 38, 51, 52, 48, 65, 72, 64, 89, 58, 76, 55, 73, 96, 54, 85, 80, 62, 40, 68, 60, 70, 75, 53, 71, 12, 83, 59, 0, 21, 36, 22, 81, 87, 82, 77, 69, 91, 98, 2, 84, 90, 86, 92, 57, 94, 32, 47, 97, 63, 9]\n"
     ]
    },
    {
     "data": {
      "text/html": [
       "<img src=\"./test500.PNG?1800448328\" alt=\"Schema of adaptive filter\" height=\"100\">"
      ],
      "text/plain": [
       "<IPython.core.display.HTML object>"
      ]
     },
     "metadata": {},
     "output_type": "display_data"
    }
   ],
   "source": [
    "move_operator = swapped_cities\n",
    "#move_operator = reversed_sections\n",
    "max_evaluations = 500\n",
    "do_hc_evaluations(max_evaluations,move_operator)"
   ]
  },
  {
   "cell_type": "code",
   "execution_count": 256,
   "metadata": {},
   "outputs": [
    {
     "name": "stdout",
     "output_type": "stream",
     "text": [
      "computation time  0:00:00.254526\n",
      "11019.742218194911\n",
      "[83, 46, 7, 98, 60, 77, 31, 79, 38, 41, 61, 23, 47, 15, 6, 80, 14, 56, 0, 68, 5, 35, 39, 99, 4, 40, 24, 89, 17, 27, 92, 50, 20, 8, 33, 70, 25, 85, 22, 18, 34, 19, 74, 52, 55, 76, 94, 53, 32, 13, 12, 11, 49, 43, 90, 63, 51, 75, 62, 28, 64, 48, 3, 84, 54, 86, 73, 66, 44, 2, 93, 45, 72, 95, 58, 37, 71, 65, 16, 36, 67, 88, 21, 10, 96, 97, 42, 81, 87, 82, 69, 9, 30, 78, 26, 1, 59, 57, 29, 91]\n"
     ]
    },
    {
     "data": {
      "text/html": [
       "<img src=\"./test5000.PNG?143664335\" alt=\"Schema of adaptive filter\" height=\"100\">"
      ],
      "text/plain": [
       "<IPython.core.display.HTML object>"
      ]
     },
     "metadata": {},
     "output_type": "display_data"
    }
   ],
   "source": [
    "move_operator = swapped_cities\n",
    "#move_operator = reversed_sections\n",
    "max_evaluations = 5000\n",
    "do_hc_evaluations(max_evaluations,move_operator)"
   ]
  },
  {
   "cell_type": "code",
   "execution_count": 258,
   "metadata": {
    "scrolled": false
   },
   "outputs": [
    {
     "name": "stdout",
     "output_type": "stream",
     "text": [
      "computation time  0:00:02.476184\n",
      "4184.116151227048\n",
      "[86, 73, 9, 30, 19, 96, 10, 21, 34, 88, 67, 23, 22, 18, 36, 16, 61, 41, 63, 1, 26, 78, 90, 97, 3, 54, 84, 51, 48, 65, 47, 52, 11, 53, 71, 15, 32, 94, 55, 76, 95, 72, 58, 37, 6, 45, 13, 64, 62, 80, 83, 49, 43, 38, 14, 8, 74, 85, 28, 42, 4, 75, 12, 93, 2, 40, 25, 98, 46, 70, 27, 91, 17, 29, 89, 24, 33, 87, 81, 7, 57, 59, 82, 60, 69, 20, 79, 31, 50, 99, 77, 44, 66, 92, 5, 68, 0, 35, 39, 56]\n"
     ]
    },
    {
     "data": {
      "text/html": [
       "<img src=\"./test50000.PNG?17241076\" alt=\"Schema of adaptive filter\" height=\"100\">"
      ],
      "text/plain": [
       "<IPython.core.display.HTML object>"
      ]
     },
     "metadata": {},
     "output_type": "display_data"
    }
   ],
   "source": [
    "#move_operator = swapped_cities\n",
    "move_operator = reversed_sections\n",
    "max_evaluations = 50000\n",
    "do_hc_evaluations(max_evaluations,move_operator)"
   ]
  },
  {
   "cell_type": "markdown",
   "metadata": {},
   "source": [
    "## Next: your turn"
   ]
  }
 ],
 "metadata": {
  "kernelspec": {
   "display_name": "Python 3",
   "language": "python",
   "name": "python3"
  },
  "language_info": {
   "codemirror_mode": {
    "name": "ipython",
    "version": 3
   },
   "file_extension": ".py",
   "mimetype": "text/x-python",
   "name": "python",
   "nbconvert_exporter": "python",
   "pygments_lexer": "ipython3",
   "version": "3.5.2"
  }
 },
 "nbformat": 4,
 "nbformat_minor": 2
}
